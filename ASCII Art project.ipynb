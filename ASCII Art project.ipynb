{
 "cells": [
  {
   "cell_type": "code",
   "execution_count": 1,
   "metadata": {},
   "outputs": [
    {
     "name": "stdout",
     "output_type": "stream",
     "text": [
      "ZZZZZ   SSS \n",
      "    Z  S   S\n",
      "   Z   S     \n",
      "  Z     SSS \n",
      " Z         S\n",
      "Z      S    S\n",
      "ZZZZZ   SSS \n"
     ]
    }
   ],
   "source": [
    "print('ZZZZZ   SSS ')\n",
    "print('    Z  S   S')\n",
    "print('   Z   S     ')\n",
    "print('  Z     SSS ')\n",
    "print(' Z         S')\n",
    "print('Z      S    S')\n",
    "print('ZZZZZ   SSS ')"
   ]
  },
  {
   "cell_type": "code",
   "execution_count": 4,
   "metadata": {},
   "outputs": [
    {
     "name": "stdout",
     "output_type": "stream",
     "text": [
      " XXX \n",
      " XXX \n",
      "XXXXX\n",
      " XXX \n",
      "X   X\n",
      "X   X\n",
      " XXX\n",
      "X   X\n",
      "X   X\n",
      "X   X\n",
      "X   X\n",
      " XXX \n"
     ]
    }
   ],
   "source": [
    "print(' XXX ')\n",
    "print(' XXX ')\n",
    "print('XXXXX')\n",
    "print(' XXX ')\n",
    "print('X   X')\n",
    "print('X   X')\n",
    "print(' XXX')\n",
    "print('X   X')\n",
    "print('X   X')\n",
    "print('X   X')\n",
    "print('X   X')\n",
    "print(' XXX ')"
   ]
  },
  {
   "cell_type": "code",
   "execution_count": null,
   "metadata": {},
   "outputs": [],
   "source": []
  }
 ],
 "metadata": {
  "kernelspec": {
   "display_name": "Python 3",
   "language": "python",
   "name": "python3"
  },
  "language_info": {
   "codemirror_mode": {
    "name": "ipython",
    "version": 3
   },
   "file_extension": ".py",
   "mimetype": "text/x-python",
   "name": "python",
   "nbconvert_exporter": "python",
   "pygments_lexer": "ipython3",
   "version": "3.7.6"
  }
 },
 "nbformat": 4,
 "nbformat_minor": 4
}
