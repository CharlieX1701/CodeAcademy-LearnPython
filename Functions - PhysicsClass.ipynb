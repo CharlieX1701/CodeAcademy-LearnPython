{
 "cells": [
  {
   "cell_type": "code",
   "execution_count": 2,
   "metadata": {},
   "outputs": [
    {
     "name": "stdout",
     "output_type": "stream",
     "text": [
      "37.77777777777778\n",
      "32.0\n",
      "226800\n",
      "The GE train supplies 226800 Newtons of force\n",
      "90000000000000000\n",
      "A 1kg bomb supplies 90000000000000000 Joules\n",
      "22680000\n",
      "The GE train does 22680000 Joules of work over 100 meters.\n"
     ]
    }
   ],
   "source": [
    "train_mass = 22680\n",
    "train_acceleration = 10\n",
    "train_distance = 100\n",
    "\n",
    "bomb_mass = 1\n",
    "\n",
    "#convert f to c\n",
    "def f_to_c(f_temp):\n",
    "  c_temp = (f_temp - 32) * 5/9\n",
    "  return c_temp\n",
    "\n",
    "#test function\n",
    "f100_in_celsius = f_to_c(100)\n",
    "print(f100_in_celsius)\n",
    "\n",
    "#convert c to f \n",
    "def c_to_f(c_temp):\n",
    "  f_temp = (c_temp * 9/5) + 32\n",
    "  return f_temp  \n",
    "\n",
    "#test function\n",
    "c0_in_fahrenheit = c_to_f(0)\n",
    "print(c0_in_fahrenheit)\n",
    "\n",
    "#calculate force\n",
    "def get_force(mass, acceleration):\n",
    "  return mass*acceleration\n",
    "\n",
    "#test function\n",
    "train_force = get_force(train_mass, train_acceleration)\n",
    "print(train_force)\n",
    "\n",
    "print('The GE train supplies ' + str(train_force) + ' Newtons of force')\n",
    "\n",
    "#calculate energy\n",
    "def get_energy(mass, c=3*10**8):\n",
    "  return mass*c**2\n",
    "\n",
    "#test function\n",
    "bomb_energy = get_energy(bomb_mass)\n",
    "print(bomb_energy)\n",
    "\n",
    "print('A 1kg bomb supplies ' + str(bomb_energy) + ' Joules')\n",
    "\n",
    "#calculate work\n",
    "def get_work(mass, acceleration, distance):\n",
    "  return get_force(mass, acceleration) * distance\n",
    "\n",
    "#test function\n",
    "train_work = get_work(train_mass, train_acceleration, train_distance)\n",
    "print(train_work)\n",
    "print('The GE train does ' + str(train_work) + ' Joules of work over ' + str(train_distance) + ' meters.')"
   ]
  },
  {
   "cell_type": "code",
   "execution_count": null,
   "metadata": {},
   "outputs": [],
   "source": []
  }
 ],
 "metadata": {
  "kernelspec": {
   "display_name": "Python 3",
   "language": "python",
   "name": "python3"
  },
  "language_info": {
   "codemirror_mode": {
    "name": "ipython",
    "version": 3
   },
   "file_extension": ".py",
   "mimetype": "text/x-python",
   "name": "python",
   "nbconvert_exporter": "python",
   "pygments_lexer": "ipython3",
   "version": "3.7.6"
  }
 },
 "nbformat": 4,
 "nbformat_minor": 4
}
